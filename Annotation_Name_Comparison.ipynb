{
  "nbformat": 4,
  "nbformat_minor": 0,
  "metadata": {
    "colab": {
      "provenance": [],
      "mount_file_id": "1-5ZJau-TkJDQuQyURMziyJ7wx3GTMRTI",
      "authorship_tag": "ABX9TyP9ZB/0Zwm5etdp4ywbSUM7",
      "include_colab_link": true
    },
    "kernelspec": {
      "name": "python3",
      "display_name": "Python 3"
    },
    "language_info": {
      "name": "python"
    }
  },
  "cells": [
    {
      "cell_type": "markdown",
      "metadata": {
        "id": "view-in-github",
        "colab_type": "text"
      },
      "source": [
        "<a href=\"https://colab.research.google.com/github/NehaSontakk/BATH-Prokka-Comparison/blob/main/Annotation_Name_Comparison.ipynb\" target=\"_parent\"><img src=\"https://colab.research.google.com/assets/colab-badge.svg\" alt=\"Open In Colab\"/></a>"
      ]
    },
    {
      "cell_type": "code",
      "execution_count": 1,
      "metadata": {
        "colab": {
          "base_uri": "https://localhost:8080/"
        },
        "id": "BqNYSv6KEJar",
        "outputId": "985e91e7-519c-4397-c61a-e89137d42779"
      },
      "outputs": [
        {
          "output_type": "stream",
          "name": "stdout",
          "text": [
            "Collecting gffpandas\n",
            "  Downloading gffpandas-1.2.0.tar.gz (178 kB)\n",
            "\u001b[?25l     \u001b[90m━━━━━━━━━━━━━━━━━━━━━━━━━━━━━━━━━━━━━━━━\u001b[0m \u001b[32m0.0/178.8 kB\u001b[0m \u001b[31m?\u001b[0m eta \u001b[36m-:--:--\u001b[0m\r\u001b[2K     \u001b[91m━━━━━━━━━━━━━━━━━━━━━━\u001b[0m\u001b[91m╸\u001b[0m\u001b[90m━━━━━━━━━━━━━━━━━\u001b[0m \u001b[32m102.4/178.8 kB\u001b[0m \u001b[31m2.7 MB/s\u001b[0m eta \u001b[36m0:00:01\u001b[0m\r\u001b[2K     \u001b[90m━━━━━━━━━━━━━━━━━━━━━━━━━━━━━━━━━━━━━━━━\u001b[0m \u001b[32m178.8/178.8 kB\u001b[0m \u001b[31m2.9 MB/s\u001b[0m eta \u001b[36m0:00:00\u001b[0m\n",
            "\u001b[?25h  Preparing metadata (setup.py) ... \u001b[?25l\u001b[?25hdone\n",
            "Building wheels for collected packages: gffpandas\n",
            "  Building wheel for gffpandas (setup.py) ... \u001b[?25l\u001b[?25hdone\n",
            "  Created wheel for gffpandas: filename=gffpandas-1.2.0-py2.py3-none-any.whl size=6248 sha256=4df3646d24596768d2051c2ac87561fa1acc1ecd5976753f9148ea96096f0bc2\n",
            "  Stored in directory: /root/.cache/pip/wheels/57/87/f1/1d0c74fbc5151562ba7953dc110a7d8c63c6c3229d025bc8cd\n",
            "Successfully built gffpandas\n",
            "Installing collected packages: gffpandas\n",
            "Successfully installed gffpandas-1.2.0\n"
          ]
        }
      ],
      "source": [
        "!pip install gffpandas"
      ]
    },
    {
      "cell_type": "code",
      "source": [
        "!sudo apt-get install bedops"
      ],
      "metadata": {
        "colab": {
          "base_uri": "https://localhost:8080/"
        },
        "id": "flkVBtNfm0za",
        "outputId": "285efad5-6023-4f99-ceaa-8866fe5db37d"
      },
      "execution_count": 2,
      "outputs": [
        {
          "output_type": "stream",
          "name": "stdout",
          "text": [
            "Reading package lists... Done\n",
            "Building dependency tree... Done\n",
            "Reading state information... Done\n",
            "The following additional packages will be installed:\n",
            "  libjansson4 tcsh\n",
            "The following NEW packages will be installed:\n",
            "  bedops libjansson4 tcsh\n",
            "0 upgraded, 3 newly installed, 0 to remove and 45 not upgraded.\n",
            "Need to get 1,922 kB of archives.\n",
            "After this operation, 10.2 MB of additional disk space will be used.\n",
            "Get:1 http://archive.ubuntu.com/ubuntu jammy/main amd64 libjansson4 amd64 2.13.1-1.1build3 [32.4 kB]\n",
            "Get:2 http://archive.ubuntu.com/ubuntu jammy/universe amd64 tcsh amd64 6.21.00-1.1 [422 kB]\n",
            "Get:3 http://archive.ubuntu.com/ubuntu jammy/universe amd64 bedops amd64 2.4.40+dfsg-1 [1,467 kB]\n",
            "Fetched 1,922 kB in 0s (5,992 kB/s)\n",
            "debconf: unable to initialize frontend: Dialog\n",
            "debconf: (No usable dialog-like program is installed, so the dialog based frontend cannot be used. at /usr/share/perl5/Debconf/FrontEnd/Dialog.pm line 78, <> line 3.)\n",
            "debconf: falling back to frontend: Readline\n",
            "debconf: unable to initialize frontend: Readline\n",
            "debconf: (This frontend requires a controlling tty.)\n",
            "debconf: falling back to frontend: Teletype\n",
            "dpkg-preconfigure: unable to re-open stdin: \n",
            "Selecting previously unselected package libjansson4:amd64.\n",
            "(Reading database ... 121913 files and directories currently installed.)\n",
            "Preparing to unpack .../libjansson4_2.13.1-1.1build3_amd64.deb ...\n",
            "Unpacking libjansson4:amd64 (2.13.1-1.1build3) ...\n",
            "Selecting previously unselected package tcsh.\n",
            "Preparing to unpack .../tcsh_6.21.00-1.1_amd64.deb ...\n",
            "Unpacking tcsh (6.21.00-1.1) ...\n",
            "Selecting previously unselected package bedops.\n",
            "Preparing to unpack .../bedops_2.4.40+dfsg-1_amd64.deb ...\n",
            "Unpacking bedops (2.4.40+dfsg-1) ...\n",
            "Setting up libjansson4:amd64 (2.13.1-1.1build3) ...\n",
            "Setting up tcsh (6.21.00-1.1) ...\n",
            "update-alternatives: using /bin/tcsh to provide /bin/csh (csh) in auto mode\n",
            "Setting up bedops (2.4.40+dfsg-1) ...\n",
            "Processing triggers for man-db (2.10.2-1) ...\n",
            "Processing triggers for libc-bin (2.35-0ubuntu3.4) ...\n",
            "/sbin/ldconfig.real: /usr/local/lib/libtbbbind.so.3 is not a symbolic link\n",
            "\n",
            "/sbin/ldconfig.real: /usr/local/lib/libtbbbind_2_5.so.3 is not a symbolic link\n",
            "\n",
            "/sbin/ldconfig.real: /usr/local/lib/libtbbmalloc.so.2 is not a symbolic link\n",
            "\n",
            "/sbin/ldconfig.real: /usr/local/lib/libtbbmalloc_proxy.so.2 is not a symbolic link\n",
            "\n",
            "/sbin/ldconfig.real: /usr/local/lib/libtbb.so.12 is not a symbolic link\n",
            "\n",
            "/sbin/ldconfig.real: /usr/local/lib/libtbbbind_2_0.so.3 is not a symbolic link\n",
            "\n"
          ]
        }
      ]
    },
    {
      "cell_type": "code",
      "source": [
        "!pip install biopython"
      ],
      "metadata": {
        "colab": {
          "base_uri": "https://localhost:8080/"
        },
        "id": "8-U6jWc0Ta9v",
        "outputId": "64d41ebc-72f7-4cab-b151-535efbd5ef9b"
      },
      "execution_count": 3,
      "outputs": [
        {
          "output_type": "stream",
          "name": "stdout",
          "text": [
            "Collecting biopython\n",
            "  Downloading biopython-1.83-cp310-cp310-manylinux_2_17_x86_64.manylinux2014_x86_64.whl (3.1 MB)\n",
            "\u001b[2K     \u001b[90m━━━━━━━━━━━━━━━━━━━━━━━━━━━━━━━━━━━━━━━━\u001b[0m \u001b[32m3.1/3.1 MB\u001b[0m \u001b[31m11.7 MB/s\u001b[0m eta \u001b[36m0:00:00\u001b[0m\n",
            "\u001b[?25hRequirement already satisfied: numpy in /usr/local/lib/python3.10/dist-packages (from biopython) (1.25.2)\n",
            "Installing collected packages: biopython\n",
            "Successfully installed biopython-1.83\n"
          ]
        }
      ]
    },
    {
      "cell_type": "code",
      "execution_count": 4,
      "metadata": {
        "id": "u-bhGRpHQy6c"
      },
      "outputs": [],
      "source": [
        "import pandas as pd\n",
        "import numpy as np\n",
        "import seaborn as sns\n",
        "import os\n",
        "import matplotlib.pyplot as plt\n",
        "import gffpandas.gffpandas as gffpd\n",
        "from Bio import SeqIO"
      ]
    },
    {
      "cell_type": "code",
      "source": [
        "alignments = pd.read_excel(\"/content/drive/MyDrive/Lab Work/Parkinsons_Data/Organized/Alignment_Overlaps_Unique_Bedmap_Output.xlsx\")"
      ],
      "metadata": {
        "id": "Mn3Eq5TV4KA9"
      },
      "execution_count": 5,
      "outputs": []
    },
    {
      "cell_type": "code",
      "source": [
        "alignment_overlaps = alignments[alignments['label']==\"BATH and Prokka Annotated\"]"
      ],
      "metadata": {
        "id": "WGx_tBZwFRxW"
      },
      "execution_count": 6,
      "outputs": []
    },
    {
      "cell_type": "markdown",
      "source": [
        "### Annotation Name Comparison"
      ],
      "metadata": {
        "id": "fHQRTtoAH2zt"
      }
    },
    {
      "cell_type": "code",
      "source": [
        "alignment_overlaps['Annotation_Match'] = 'No'\n",
        "\n",
        "for index, row in alignment_overlaps.iterrows():\n",
        "    prokka_protein = \"\"\n",
        "    bath_protein = \"\"\n",
        "    if row['label'] == \"BATH and Prokka Annotated\":\n",
        "        prokka_protein = row['Prokka'].split(\":\")[-1]\n",
        "        bath_protein = row['BATH'].split(\"\\t\")[-3]\n",
        "        if prokka_protein == bath_protein:\n",
        "            alignment_overlaps.loc[index, 'Annotation_Match'] = 'Yes'"
      ],
      "metadata": {
        "colab": {
          "base_uri": "https://localhost:8080/"
        },
        "id": "iLFCmTPH4Yh_",
        "outputId": "ffd3f9ac-cd81-4a6f-9a7a-addda395fa52"
      },
      "execution_count": 7,
      "outputs": [
        {
          "output_type": "stream",
          "name": "stderr",
          "text": [
            "<ipython-input-7-357b807f7606>:1: SettingWithCopyWarning: \n",
            "A value is trying to be set on a copy of a slice from a DataFrame.\n",
            "Try using .loc[row_indexer,col_indexer] = value instead\n",
            "\n",
            "See the caveats in the documentation: https://pandas.pydata.org/pandas-docs/stable/user_guide/indexing.html#returning-a-view-versus-a-copy\n",
            "  alignment_overlaps['Annotation_Match'] = 'No'\n"
          ]
        }
      ]
    },
    {
      "cell_type": "code",
      "source": [
        "alignment_overlaps"
      ],
      "metadata": {
        "colab": {
          "base_uri": "https://localhost:8080/",
          "height": 411
        },
        "id": "28XmOc7VFjdv",
        "outputId": "75917026-48ff-442d-dd32-fb8b701ed165"
      },
      "execution_count": 8,
      "outputs": [
        {
          "output_type": "execute_result",
          "data": {
            "text/plain": [
              "                                                Prokka  \\\n",
              "443  k127_1013475\\t28\\t825\\tCKDIDOFJ_00001\\t+\\tab i...   \n",
              "444  k127_1013475\\t904\\t2010\\tCKDIDOFJ_00002\\t+\\tab...   \n",
              "445  k127_1013475\\t2108\\t3613\\tCKDIDOFJ_00003\\t+\\ta...   \n",
              "446  k127_1013475\\t3678\\t3914\\tCKDIDOFJ_00004\\t+\\ta...   \n",
              "447  k127_1013475\\t3944\\t5182\\tCKDIDOFJ_00005\\t+\\ta...   \n",
              "..                                                 ...   \n",
              "944  k127_795063\\t28173\\t29489\\tCKDIDOFJ_01702\\t+\\t...   \n",
              "945  k127_795063\\t36632\\t37219\\tCKDIDOFJ_01711\\t+\\t...   \n",
              "947  k127_795063\\t45264\\t46460\\tCKDIDOFJ_01720\\t+\\t...   \n",
              "948  k127_795063\\t46484\\t47611\\tCKDIDOFJ_01721\\t+\\t...   \n",
              "950  k127_795063\\t50929\\t53007\\tCKDIDOFJ_01726\\t+\\t...   \n",
              "\n",
              "                                          BATH                      label  \\\n",
              "443       k127_1013475\\t4\\t822\\tMF_01397\\t+\\t0  BATH and Prokka Annotated   \n",
              "444    k127_1013475\\t985\\t2001\\tMF_01350\\t+\\t0  BATH and Prokka Annotated   \n",
              "445   k127_1013475\\t2114\\t3589\\tMF_01347\\t+\\t0  BATH and Prokka Annotated   \n",
              "446   k127_1013475\\t3675\\t3908\\tMF_00530\\t+\\t0  BATH and Prokka Annotated   \n",
              "447   k127_1013475\\t4421\\t5059\\tMF_01393\\t+\\t0  BATH and Prokka Annotated   \n",
              "..                                         ...                        ...   \n",
              "944    k127_795063\\t28182\\t29378\\tP9WFP3\\t+\\t0  BATH and Prokka Annotated   \n",
              "945    k127_795063\\t36635\\t37210\\tQ46948\\t+\\t0  BATH and Prokka Annotated   \n",
              "947    k127_795063\\t45273\\t46430\\tP0DPE4\\t+\\t0  BATH and Prokka Annotated   \n",
              "948    k127_795063\\t46493\\t47560\\tP06710\\t+\\t0  BATH and Prokka Annotated   \n",
              "950  k127_795063\\t51136\\t52893\\tMF_00685\\t+\\t0  BATH and Prokka Annotated   \n",
              "\n",
              "    Annotation_Match  \n",
              "443               No  \n",
              "444               No  \n",
              "445               No  \n",
              "446              Yes  \n",
              "447              Yes  \n",
              "..               ...  \n",
              "944               No  \n",
              "945              Yes  \n",
              "947              Yes  \n",
              "948              Yes  \n",
              "950               No  \n",
              "\n",
              "[433 rows x 4 columns]"
            ],
            "text/html": [
              "\n",
              "  <div id=\"df-b06e6a3d-add8-4fb6-b8b2-1003c0f36fe5\" class=\"colab-df-container\">\n",
              "    <div>\n",
              "<style scoped>\n",
              "    .dataframe tbody tr th:only-of-type {\n",
              "        vertical-align: middle;\n",
              "    }\n",
              "\n",
              "    .dataframe tbody tr th {\n",
              "        vertical-align: top;\n",
              "    }\n",
              "\n",
              "    .dataframe thead th {\n",
              "        text-align: right;\n",
              "    }\n",
              "</style>\n",
              "<table border=\"1\" class=\"dataframe\">\n",
              "  <thead>\n",
              "    <tr style=\"text-align: right;\">\n",
              "      <th></th>\n",
              "      <th>Prokka</th>\n",
              "      <th>BATH</th>\n",
              "      <th>label</th>\n",
              "      <th>Annotation_Match</th>\n",
              "    </tr>\n",
              "  </thead>\n",
              "  <tbody>\n",
              "    <tr>\n",
              "      <th>443</th>\n",
              "      <td>k127_1013475\\t28\\t825\\tCKDIDOFJ_00001\\t+\\tab i...</td>\n",
              "      <td>k127_1013475\\t4\\t822\\tMF_01397\\t+\\t0</td>\n",
              "      <td>BATH and Prokka Annotated</td>\n",
              "      <td>No</td>\n",
              "    </tr>\n",
              "    <tr>\n",
              "      <th>444</th>\n",
              "      <td>k127_1013475\\t904\\t2010\\tCKDIDOFJ_00002\\t+\\tab...</td>\n",
              "      <td>k127_1013475\\t985\\t2001\\tMF_01350\\t+\\t0</td>\n",
              "      <td>BATH and Prokka Annotated</td>\n",
              "      <td>No</td>\n",
              "    </tr>\n",
              "    <tr>\n",
              "      <th>445</th>\n",
              "      <td>k127_1013475\\t2108\\t3613\\tCKDIDOFJ_00003\\t+\\ta...</td>\n",
              "      <td>k127_1013475\\t2114\\t3589\\tMF_01347\\t+\\t0</td>\n",
              "      <td>BATH and Prokka Annotated</td>\n",
              "      <td>No</td>\n",
              "    </tr>\n",
              "    <tr>\n",
              "      <th>446</th>\n",
              "      <td>k127_1013475\\t3678\\t3914\\tCKDIDOFJ_00004\\t+\\ta...</td>\n",
              "      <td>k127_1013475\\t3675\\t3908\\tMF_00530\\t+\\t0</td>\n",
              "      <td>BATH and Prokka Annotated</td>\n",
              "      <td>Yes</td>\n",
              "    </tr>\n",
              "    <tr>\n",
              "      <th>447</th>\n",
              "      <td>k127_1013475\\t3944\\t5182\\tCKDIDOFJ_00005\\t+\\ta...</td>\n",
              "      <td>k127_1013475\\t4421\\t5059\\tMF_01393\\t+\\t0</td>\n",
              "      <td>BATH and Prokka Annotated</td>\n",
              "      <td>Yes</td>\n",
              "    </tr>\n",
              "    <tr>\n",
              "      <th>...</th>\n",
              "      <td>...</td>\n",
              "      <td>...</td>\n",
              "      <td>...</td>\n",
              "      <td>...</td>\n",
              "    </tr>\n",
              "    <tr>\n",
              "      <th>944</th>\n",
              "      <td>k127_795063\\t28173\\t29489\\tCKDIDOFJ_01702\\t+\\t...</td>\n",
              "      <td>k127_795063\\t28182\\t29378\\tP9WFP3\\t+\\t0</td>\n",
              "      <td>BATH and Prokka Annotated</td>\n",
              "      <td>No</td>\n",
              "    </tr>\n",
              "    <tr>\n",
              "      <th>945</th>\n",
              "      <td>k127_795063\\t36632\\t37219\\tCKDIDOFJ_01711\\t+\\t...</td>\n",
              "      <td>k127_795063\\t36635\\t37210\\tQ46948\\t+\\t0</td>\n",
              "      <td>BATH and Prokka Annotated</td>\n",
              "      <td>Yes</td>\n",
              "    </tr>\n",
              "    <tr>\n",
              "      <th>947</th>\n",
              "      <td>k127_795063\\t45264\\t46460\\tCKDIDOFJ_01720\\t+\\t...</td>\n",
              "      <td>k127_795063\\t45273\\t46430\\tP0DPE4\\t+\\t0</td>\n",
              "      <td>BATH and Prokka Annotated</td>\n",
              "      <td>Yes</td>\n",
              "    </tr>\n",
              "    <tr>\n",
              "      <th>948</th>\n",
              "      <td>k127_795063\\t46484\\t47611\\tCKDIDOFJ_01721\\t+\\t...</td>\n",
              "      <td>k127_795063\\t46493\\t47560\\tP06710\\t+\\t0</td>\n",
              "      <td>BATH and Prokka Annotated</td>\n",
              "      <td>Yes</td>\n",
              "    </tr>\n",
              "    <tr>\n",
              "      <th>950</th>\n",
              "      <td>k127_795063\\t50929\\t53007\\tCKDIDOFJ_01726\\t+\\t...</td>\n",
              "      <td>k127_795063\\t51136\\t52893\\tMF_00685\\t+\\t0</td>\n",
              "      <td>BATH and Prokka Annotated</td>\n",
              "      <td>No</td>\n",
              "    </tr>\n",
              "  </tbody>\n",
              "</table>\n",
              "<p>433 rows × 4 columns</p>\n",
              "</div>\n",
              "    <div class=\"colab-df-buttons\">\n",
              "\n",
              "  <div class=\"colab-df-container\">\n",
              "    <button class=\"colab-df-convert\" onclick=\"convertToInteractive('df-b06e6a3d-add8-4fb6-b8b2-1003c0f36fe5')\"\n",
              "            title=\"Convert this dataframe to an interactive table.\"\n",
              "            style=\"display:none;\">\n",
              "\n",
              "  <svg xmlns=\"http://www.w3.org/2000/svg\" height=\"24px\" viewBox=\"0 -960 960 960\">\n",
              "    <path d=\"M120-120v-720h720v720H120Zm60-500h600v-160H180v160Zm220 220h160v-160H400v160Zm0 220h160v-160H400v160ZM180-400h160v-160H180v160Zm440 0h160v-160H620v160ZM180-180h160v-160H180v160Zm440 0h160v-160H620v160Z\"/>\n",
              "  </svg>\n",
              "    </button>\n",
              "\n",
              "  <style>\n",
              "    .colab-df-container {\n",
              "      display:flex;\n",
              "      gap: 12px;\n",
              "    }\n",
              "\n",
              "    .colab-df-convert {\n",
              "      background-color: #E8F0FE;\n",
              "      border: none;\n",
              "      border-radius: 50%;\n",
              "      cursor: pointer;\n",
              "      display: none;\n",
              "      fill: #1967D2;\n",
              "      height: 32px;\n",
              "      padding: 0 0 0 0;\n",
              "      width: 32px;\n",
              "    }\n",
              "\n",
              "    .colab-df-convert:hover {\n",
              "      background-color: #E2EBFA;\n",
              "      box-shadow: 0px 1px 2px rgba(60, 64, 67, 0.3), 0px 1px 3px 1px rgba(60, 64, 67, 0.15);\n",
              "      fill: #174EA6;\n",
              "    }\n",
              "\n",
              "    .colab-df-buttons div {\n",
              "      margin-bottom: 4px;\n",
              "    }\n",
              "\n",
              "    [theme=dark] .colab-df-convert {\n",
              "      background-color: #3B4455;\n",
              "      fill: #D2E3FC;\n",
              "    }\n",
              "\n",
              "    [theme=dark] .colab-df-convert:hover {\n",
              "      background-color: #434B5C;\n",
              "      box-shadow: 0px 1px 3px 1px rgba(0, 0, 0, 0.15);\n",
              "      filter: drop-shadow(0px 1px 2px rgba(0, 0, 0, 0.3));\n",
              "      fill: #FFFFFF;\n",
              "    }\n",
              "  </style>\n",
              "\n",
              "    <script>\n",
              "      const buttonEl =\n",
              "        document.querySelector('#df-b06e6a3d-add8-4fb6-b8b2-1003c0f36fe5 button.colab-df-convert');\n",
              "      buttonEl.style.display =\n",
              "        google.colab.kernel.accessAllowed ? 'block' : 'none';\n",
              "\n",
              "      async function convertToInteractive(key) {\n",
              "        const element = document.querySelector('#df-b06e6a3d-add8-4fb6-b8b2-1003c0f36fe5');\n",
              "        const dataTable =\n",
              "          await google.colab.kernel.invokeFunction('convertToInteractive',\n",
              "                                                    [key], {});\n",
              "        if (!dataTable) return;\n",
              "\n",
              "        const docLinkHtml = 'Like what you see? Visit the ' +\n",
              "          '<a target=\"_blank\" href=https://colab.research.google.com/notebooks/data_table.ipynb>data table notebook</a>'\n",
              "          + ' to learn more about interactive tables.';\n",
              "        element.innerHTML = '';\n",
              "        dataTable['output_type'] = 'display_data';\n",
              "        await google.colab.output.renderOutput(dataTable, element);\n",
              "        const docLink = document.createElement('div');\n",
              "        docLink.innerHTML = docLinkHtml;\n",
              "        element.appendChild(docLink);\n",
              "      }\n",
              "    </script>\n",
              "  </div>\n",
              "\n",
              "\n",
              "<div id=\"df-86d5eff8-d1ec-42dc-a794-b68fe01b33cf\">\n",
              "  <button class=\"colab-df-quickchart\" onclick=\"quickchart('df-86d5eff8-d1ec-42dc-a794-b68fe01b33cf')\"\n",
              "            title=\"Suggest charts\"\n",
              "            style=\"display:none;\">\n",
              "\n",
              "<svg xmlns=\"http://www.w3.org/2000/svg\" height=\"24px\"viewBox=\"0 0 24 24\"\n",
              "     width=\"24px\">\n",
              "    <g>\n",
              "        <path d=\"M19 3H5c-1.1 0-2 .9-2 2v14c0 1.1.9 2 2 2h14c1.1 0 2-.9 2-2V5c0-1.1-.9-2-2-2zM9 17H7v-7h2v7zm4 0h-2V7h2v10zm4 0h-2v-4h2v4z\"/>\n",
              "    </g>\n",
              "</svg>\n",
              "  </button>\n",
              "\n",
              "<style>\n",
              "  .colab-df-quickchart {\n",
              "      --bg-color: #E8F0FE;\n",
              "      --fill-color: #1967D2;\n",
              "      --hover-bg-color: #E2EBFA;\n",
              "      --hover-fill-color: #174EA6;\n",
              "      --disabled-fill-color: #AAA;\n",
              "      --disabled-bg-color: #DDD;\n",
              "  }\n",
              "\n",
              "  [theme=dark] .colab-df-quickchart {\n",
              "      --bg-color: #3B4455;\n",
              "      --fill-color: #D2E3FC;\n",
              "      --hover-bg-color: #434B5C;\n",
              "      --hover-fill-color: #FFFFFF;\n",
              "      --disabled-bg-color: #3B4455;\n",
              "      --disabled-fill-color: #666;\n",
              "  }\n",
              "\n",
              "  .colab-df-quickchart {\n",
              "    background-color: var(--bg-color);\n",
              "    border: none;\n",
              "    border-radius: 50%;\n",
              "    cursor: pointer;\n",
              "    display: none;\n",
              "    fill: var(--fill-color);\n",
              "    height: 32px;\n",
              "    padding: 0;\n",
              "    width: 32px;\n",
              "  }\n",
              "\n",
              "  .colab-df-quickchart:hover {\n",
              "    background-color: var(--hover-bg-color);\n",
              "    box-shadow: 0 1px 2px rgba(60, 64, 67, 0.3), 0 1px 3px 1px rgba(60, 64, 67, 0.15);\n",
              "    fill: var(--button-hover-fill-color);\n",
              "  }\n",
              "\n",
              "  .colab-df-quickchart-complete:disabled,\n",
              "  .colab-df-quickchart-complete:disabled:hover {\n",
              "    background-color: var(--disabled-bg-color);\n",
              "    fill: var(--disabled-fill-color);\n",
              "    box-shadow: none;\n",
              "  }\n",
              "\n",
              "  .colab-df-spinner {\n",
              "    border: 2px solid var(--fill-color);\n",
              "    border-color: transparent;\n",
              "    border-bottom-color: var(--fill-color);\n",
              "    animation:\n",
              "      spin 1s steps(1) infinite;\n",
              "  }\n",
              "\n",
              "  @keyframes spin {\n",
              "    0% {\n",
              "      border-color: transparent;\n",
              "      border-bottom-color: var(--fill-color);\n",
              "      border-left-color: var(--fill-color);\n",
              "    }\n",
              "    20% {\n",
              "      border-color: transparent;\n",
              "      border-left-color: var(--fill-color);\n",
              "      border-top-color: var(--fill-color);\n",
              "    }\n",
              "    30% {\n",
              "      border-color: transparent;\n",
              "      border-left-color: var(--fill-color);\n",
              "      border-top-color: var(--fill-color);\n",
              "      border-right-color: var(--fill-color);\n",
              "    }\n",
              "    40% {\n",
              "      border-color: transparent;\n",
              "      border-right-color: var(--fill-color);\n",
              "      border-top-color: var(--fill-color);\n",
              "    }\n",
              "    60% {\n",
              "      border-color: transparent;\n",
              "      border-right-color: var(--fill-color);\n",
              "    }\n",
              "    80% {\n",
              "      border-color: transparent;\n",
              "      border-right-color: var(--fill-color);\n",
              "      border-bottom-color: var(--fill-color);\n",
              "    }\n",
              "    90% {\n",
              "      border-color: transparent;\n",
              "      border-bottom-color: var(--fill-color);\n",
              "    }\n",
              "  }\n",
              "</style>\n",
              "\n",
              "  <script>\n",
              "    async function quickchart(key) {\n",
              "      const quickchartButtonEl =\n",
              "        document.querySelector('#' + key + ' button');\n",
              "      quickchartButtonEl.disabled = true;  // To prevent multiple clicks.\n",
              "      quickchartButtonEl.classList.add('colab-df-spinner');\n",
              "      try {\n",
              "        const charts = await google.colab.kernel.invokeFunction(\n",
              "            'suggestCharts', [key], {});\n",
              "      } catch (error) {\n",
              "        console.error('Error during call to suggestCharts:', error);\n",
              "      }\n",
              "      quickchartButtonEl.classList.remove('colab-df-spinner');\n",
              "      quickchartButtonEl.classList.add('colab-df-quickchart-complete');\n",
              "    }\n",
              "    (() => {\n",
              "      let quickchartButtonEl =\n",
              "        document.querySelector('#df-86d5eff8-d1ec-42dc-a794-b68fe01b33cf button');\n",
              "      quickchartButtonEl.style.display =\n",
              "        google.colab.kernel.accessAllowed ? 'block' : 'none';\n",
              "    })();\n",
              "  </script>\n",
              "</div>\n",
              "\n",
              "  <div id=\"id_6c49365c-9dbd-4030-a870-ec6a2db1be55\">\n",
              "    <style>\n",
              "      .colab-df-generate {\n",
              "        background-color: #E8F0FE;\n",
              "        border: none;\n",
              "        border-radius: 50%;\n",
              "        cursor: pointer;\n",
              "        display: none;\n",
              "        fill: #1967D2;\n",
              "        height: 32px;\n",
              "        padding: 0 0 0 0;\n",
              "        width: 32px;\n",
              "      }\n",
              "\n",
              "      .colab-df-generate:hover {\n",
              "        background-color: #E2EBFA;\n",
              "        box-shadow: 0px 1px 2px rgba(60, 64, 67, 0.3), 0px 1px 3px 1px rgba(60, 64, 67, 0.15);\n",
              "        fill: #174EA6;\n",
              "      }\n",
              "\n",
              "      [theme=dark] .colab-df-generate {\n",
              "        background-color: #3B4455;\n",
              "        fill: #D2E3FC;\n",
              "      }\n",
              "\n",
              "      [theme=dark] .colab-df-generate:hover {\n",
              "        background-color: #434B5C;\n",
              "        box-shadow: 0px 1px 3px 1px rgba(0, 0, 0, 0.15);\n",
              "        filter: drop-shadow(0px 1px 2px rgba(0, 0, 0, 0.3));\n",
              "        fill: #FFFFFF;\n",
              "      }\n",
              "    </style>\n",
              "    <button class=\"colab-df-generate\" onclick=\"generateWithVariable('alignment_overlaps')\"\n",
              "            title=\"Generate code using this dataframe.\"\n",
              "            style=\"display:none;\">\n",
              "\n",
              "  <svg xmlns=\"http://www.w3.org/2000/svg\" height=\"24px\"viewBox=\"0 0 24 24\"\n",
              "       width=\"24px\">\n",
              "    <path d=\"M7,19H8.4L18.45,9,17,7.55,7,17.6ZM5,21V16.75L18.45,3.32a2,2,0,0,1,2.83,0l1.4,1.43a1.91,1.91,0,0,1,.58,1.4,1.91,1.91,0,0,1-.58,1.4L9.25,21ZM18.45,9,17,7.55Zm-12,3A5.31,5.31,0,0,0,4.9,8.1,5.31,5.31,0,0,0,1,6.5,5.31,5.31,0,0,0,4.9,4.9,5.31,5.31,0,0,0,6.5,1,5.31,5.31,0,0,0,8.1,4.9,5.31,5.31,0,0,0,12,6.5,5.46,5.46,0,0,0,6.5,12Z\"/>\n",
              "  </svg>\n",
              "    </button>\n",
              "    <script>\n",
              "      (() => {\n",
              "      const buttonEl =\n",
              "        document.querySelector('#id_6c49365c-9dbd-4030-a870-ec6a2db1be55 button.colab-df-generate');\n",
              "      buttonEl.style.display =\n",
              "        google.colab.kernel.accessAllowed ? 'block' : 'none';\n",
              "\n",
              "      buttonEl.onclick = () => {\n",
              "        google.colab.notebook.generateWithVariable('alignment_overlaps');\n",
              "      }\n",
              "      })();\n",
              "    </script>\n",
              "  </div>\n",
              "\n",
              "    </div>\n",
              "  </div>\n"
            ],
            "application/vnd.google.colaboratory.intrinsic+json": {
              "type": "dataframe",
              "variable_name": "alignment_overlaps",
              "summary": "{\n  \"name\": \"alignment_overlaps\",\n  \"rows\": 433,\n  \"fields\": [\n    {\n      \"column\": \"Prokka\",\n      \"properties\": {\n        \"dtype\": \"string\",\n        \"num_unique_values\": 407,\n        \"samples\": [\n          \"k127_2074107\\t4366\\t4578\\tCKDIDOFJ_00522\\t+\\tab initio prediction:Prodigal:002006,similar to AA sequence:UniProtKB:Q0P9D3\",\n          \"k127_1836396\\t25623\\t27761\\tCKDIDOFJ_00209\\t+\\tab initio prediction:Prodigal:002006,similar to AA sequence:UniProtKB:P11653\",\n          \"k127_2086219\\t78587\\t80338\\tCKDIDOFJ_00803\\t+\\tab initio prediction:Prodigal:002006,similar to AA sequence:UniProtKB:P18159\"\n        ],\n        \"semantic_type\": \"\",\n        \"description\": \"\"\n      }\n    },\n    {\n      \"column\": \"BATH\",\n      \"properties\": {\n        \"dtype\": \"string\",\n        \"num_unique_values\": 432,\n        \"samples\": [\n          \"k127_795063\\t23332\\t24489\\tQ83E09\\t+\\t0\",\n          \"k127_2074107\\t4369\\t4530\\tQ0P9D3\\t+\\t0\",\n          \"k127_533492\\t7217\\t8671\\tMF_00208\\t+\\t0\"\n        ],\n        \"semantic_type\": \"\",\n        \"description\": \"\"\n      }\n    },\n    {\n      \"column\": \"label\",\n      \"properties\": {\n        \"dtype\": \"category\",\n        \"num_unique_values\": 1,\n        \"samples\": [\n          \"BATH and Prokka Annotated\"\n        ],\n        \"semantic_type\": \"\",\n        \"description\": \"\"\n      }\n    },\n    {\n      \"column\": \"Annotation_Match\",\n      \"properties\": {\n        \"dtype\": \"category\",\n        \"num_unique_values\": 2,\n        \"samples\": [\n          \"Yes\"\n        ],\n        \"semantic_type\": \"\",\n        \"description\": \"\"\n      }\n    }\n  ]\n}"
            }
          },
          "metadata": {},
          "execution_count": 8
        }
      ]
    },
    {
      "cell_type": "code",
      "source": [
        "alignment_overlaps['Annotation_Match'].value_counts()"
      ],
      "metadata": {
        "colab": {
          "base_uri": "https://localhost:8080/"
        },
        "id": "6qcU01UMHWsO",
        "outputId": "7175763c-7d80-406a-d0ad-b17d7c13ee69"
      },
      "execution_count": 9,
      "outputs": [
        {
          "output_type": "execute_result",
          "data": {
            "text/plain": [
              "Annotation_Match\n",
              "No     238\n",
              "Yes    195\n",
              "Name: count, dtype: int64"
            ]
          },
          "metadata": {},
          "execution_count": 9
        }
      ]
    },
    {
      "cell_type": "markdown",
      "source": [
        "### COG Level Overlap"
      ],
      "metadata": {
        "id": "65MHMGsJHj_O"
      }
    },
    {
      "cell_type": "code",
      "source": [
        "#Retrieve the right COGs for each dataframe\n",
        "import requests\n",
        "\n",
        "def get_eggnog_link(protein_name):\n",
        "  if protein_name != \"\":\n",
        "    url = f\"https://rest.uniprot.org/uniprotkb/search?query={protein_name}&format=json\"\n",
        "    #print(url)\n",
        "    try:\n",
        "        response = requests.get(url)\n",
        "        response.raise_for_status()\n",
        "        data = response.json()\n",
        "        #print(data.get(\"\"))\n",
        "        for result in data.get('results', []):\n",
        "            #print(result)\n",
        "            cross_refs = result.get(\"uniProtKBCrossReferences\", [])\n",
        "            #print(cross_refs)\n",
        "            for ref in cross_refs:\n",
        "                if ref.get('database') == 'eggNOG':\n",
        "                    return ref.get('id')\n",
        "    except requests.RequestException as e:\n",
        "        print(f\"Request failed: {e}\")\n",
        "  else:\n",
        "    return None\n"
      ],
      "metadata": {
        "id": "fJLc7uUn2v0l"
      },
      "execution_count": 10,
      "outputs": []
    },
    {
      "cell_type": "markdown",
      "source": [
        "### !Uncomment if you are doing a new set"
      ],
      "metadata": {
        "id": "UMoMDWepVVn9"
      }
    },
    {
      "cell_type": "code",
      "source": [
        "alignment_overlaps['Prokka COGs'] = alignment_overlaps['Prokka'].apply(lambda x: get_eggnog_link(x.split(\":\")[-1]))"
      ],
      "metadata": {
        "id": "1ESOO_pwQh5Z",
        "colab": {
          "base_uri": "https://localhost:8080/"
        },
        "outputId": "c5d967ae-f8e1-4737-886a-a68b47d8e8a5"
      },
      "execution_count": 11,
      "outputs": [
        {
          "output_type": "stream",
          "name": "stderr",
          "text": [
            "<ipython-input-11-610285e70e5d>:1: SettingWithCopyWarning: \n",
            "A value is trying to be set on a copy of a slice from a DataFrame.\n",
            "Try using .loc[row_indexer,col_indexer] = value instead\n",
            "\n",
            "See the caveats in the documentation: https://pandas.pydata.org/pandas-docs/stable/user_guide/indexing.html#returning-a-view-versus-a-copy\n",
            "  alignment_overlaps['Prokka COGs'] = alignment_overlaps['Prokka'].apply(lambda x: get_eggnog_link(x.split(\":\")[-1]))\n"
          ]
        }
      ]
    },
    {
      "cell_type": "code",
      "source": [
        "#Hasn't been working well\n",
        "#alignment_overlaps['BATH COGs'] = alignment_overlaps['BATH'].apply(lambda x: get_eggnog_link(x.split('\\t')[-3]))"
      ],
      "metadata": {
        "id": "fYuvDd9sRX23"
      },
      "execution_count": 12,
      "outputs": []
    },
    {
      "cell_type": "code",
      "source": [
        "import requests\n",
        "import re  # Import the regular expressions module\n",
        "\n",
        "def get_eggnog_link(protein_name):\n",
        "    if protein_name != \"\":\n",
        "        url = f\"https://rest.uniprot.org/uniprotkb/search?query={protein_name}&format=json\"\n",
        "        try:\n",
        "            response = requests.get(url)\n",
        "            response.raise_for_status()\n",
        "            data = response.json()\n",
        "            for result in data.get('results', []):\n",
        "                cross_refs = result.get(\"uniProtKBCrossReferences\", [])\n",
        "                for ref in cross_refs:\n",
        "                    if ref.get('database') == 'eggNOG':\n",
        "                        return ref.get('id')\n",
        "        except requests.RequestException as e:\n",
        "            print(f\"Request failed: {e}\")\n",
        "    return None\n",
        "\n",
        "def debug_split(x):\n",
        "    parts = re.split(r'\\s+', x)  # This uses regular expressions to split by any whitespace\n",
        "    print(parts)  # This will print the split results\n",
        "    if len(parts) >= 3:\n",
        "        return get_eggnog_link(parts[-3])\n",
        "    else:\n",
        "        print(f\"Not enough parts in the list: {parts}\")  # Optional: Print an error or warning\n",
        "        return None\n",
        "\n",
        "alignment_overlaps['BATH COGs'] = alignment_overlaps['BATH'].apply(debug_split)\n"
      ],
      "metadata": {
        "colab": {
          "base_uri": "https://localhost:8080/"
        },
        "id": "i8WJofcQ8QHP",
        "outputId": "e83127ab-8762-4d73-f3e6-a44abd0ba242"
      },
      "execution_count": null,
      "outputs": [
        {
          "output_type": "stream",
          "name": "stdout",
          "text": [
            "['k127_1013475', '4', '822', 'MF_01397', '+', '0']\n",
            "['k127_1013475', '985', '2001', 'MF_01350', '+', '0']\n",
            "['k127_1013475', '2114', '3589', 'MF_01347', '+', '0']\n",
            "['k127_1013475', '3675', '3908', 'MF_00530', '+', '0']\n",
            "['k127_1013475', '4421', '5059', 'MF_01393', '+', '0']\n",
            "['k127_1013475', '5287', '5502', 'MF_01396', '+', '0']\n",
            "['k127_1013475', '5724', '6218', 'MF_01398', '+', '0']\n",
            "['k127_1013475', '6298', '6849', 'MF_01416', '+', '0']\n",
            "['k127_1013475', '6961', '8529', 'MF_01346', '+', '0']\n",
            "['k127_1013475', '8593', '9483', 'MF_00815', '+', '0']\n",
            "['k127_1013475', '9582', '10058', 'MF_01351', '+', '0']\n",
            "['k127_1013475', '11039', '11341', 'MF_01456', '+', '0']\n",
            "['k127_1013475', '11569', '13290', 'P9WIW1', '+', '0']\n",
            "['k127_1013475', '13369', '14811', 'MF_00491', '+', '0']\n",
            "['k127_1013475', '14991', '16400', 'MF_00445', '+', '0']\n",
            "['k127_1013475', '23186', '24247', 'P77364', '+', '0']\n",
            "['k127_1013475', '51206', '52066', 'P71011', '+', '0']\n",
            "['k127_1013475', '88237', '89142', 'Q9X2A2', '+', '0']\n",
            "['k127_1013475', '95987', '96607', 'MF_02087', '+', '0']\n",
            "['k127_1013475', '96684', '97175', 'P11551', '+', '0']\n",
            "['k127_1013475', '97698', '97919', 'P11551', '+', '0']\n",
            "['k127_1013475', '100540', '101178', 'P9WMX9', '+', '0']\n",
            "['k127_1013475', '107930', '109117', 'MF_00985', '+', '0']\n",
            "['k127_1013475', '110719', '112176', 'P52043', '+', '0']\n",
            "['k127_1013475', '112444', '113328', 'P28303', '+', '0']\n",
            "['k127_1013475', '112453', '113583', 'P76352', '+', '0']\n",
            "['k127_1013475', '116582', '117238', 'A0A0H3JR16', '+', '0']\n",
            "['k127_1013475', '117558', '118631', 'MF_00259', '+', '0']\n",
            "['k127_1013475', '118679', '119041', 'MF_00272', '+', '0']\n",
            "['k127_1013475', '119236', '122065', 'MF_00711', '+', '3']\n",
            "['k127_1013475', '119236', '122065', 'MF_00711', '+', '3']\n",
            "['k127_1013475', '122109', '123422', 'P11959', '+', '0']\n",
            "['k127_1013475', '131508', '132356', 'MF_00361', '+', '0']\n",
            "['k127_1013475', '143623', '144396', 'Q9CFU9', '+', '0']\n",
            "['k127_1013475', '144607', '146016', 'Q9CFU9', '+', '0']\n",
            "['k127_1013475', '146601', '147014', 'P39156', '+', '0']\n",
            "['k127_1013475', '152633', '153943', 'MF_04044', '+', '6']\n",
            "['k127_1013475', '153944', '154266', 'MF_01430', '+', '0']\n",
            "['k127_1013475', '155211', '155765', 'MF_01498', '+', '0']\n",
            "['k127_1013475', '162534', '163601', 'MF_00160', '+', '0']\n",
            "['k127_1013475', '163707', '164477', 'Q9X1C1', '+', '0']\n",
            "['k127_1013475', '166593', '167666', 'Q9S3R8', '+', '0']\n",
            "['k127_922904', '1', '738', 'ISBf5', '+', '0']\n",
            "['k127_922904', '6189', '6455', 'Q47149', '+', '0']\n",
            "['k127_922904', '9119', '11146', 'MF_01588', '+', '0']\n",
            "['k127_922904', '15889', '18507', 'MF_00036_B', '+', '0']\n",
            "['k127_922904', '18858', '19337', 'MF_00484', '+', '0']\n",
            "['k127_922904', '24078', '25658', 'P0AFR2', '+', '0']\n",
            "['k127_922904', '25803', '26165', 'MF_00454', '+', '0']\n",
            "['k127_922904', '28830', '29300', 'MF_01366', '+', '0']\n",
            "['k127_922904', '29313', '29699', 'MF_00532_B', '+', '0']\n",
            "['k127_922904', '30867', '31613', 'MF_00050', '+', '0']\n",
            "['k127_922904', '31614', '31853', 'MF_00050', '+', '0']\n",
            "['k127_922904', '32873', '33127', 'A0A0H2XI17', '+', '0']\n",
            "['k127_922904', '33195', '33626', 'MF_00575', '+', '0']\n",
            "['k127_922904', '51247', '52881', 'P0AC33', '+', '0']\n",
            "['k127_922904', '86746', '87075', 'MF_00984', '+', '0']\n",
            "['k127_922904', '89245', '90582', 'O31503', '+', '0']\n",
            "['k127_922904', '94986', '96659', 'P08395', '+', '0']\n",
            "['k127_922904', '96816', '97829', 'MF_00409', '+', '0']\n",
            "['k127_922904', '98135', '98941', 'P46354', '+', '0']\n",
            "['k127_922904', '99139', '100041', 'MF_02128', '+', '0']\n",
            "['k127_922904', '101341', '101661', 'MF_00073', '+', '0']\n",
            "['k127_922904', '103089', '103604', 'MF_00376', '+', '0']\n",
            "['k127_922904', '108091', '109428', 'P76352', '+', '0']\n",
            "['k127_922904', '109577', '110710', 'Q08432', '+', '0']\n",
            "['k127_922904', '112803', '113555', 'P28903', '+', '0']\n",
            "['k127_922904', '113628', '114995', 'P28903', '+', '0']\n",
            "['k127_922904', '115089', '115481', 'P0A9N8', '+', '0']\n",
            "['k127_922904', '118203', '119228', 'O25526', '+', '0']\n",
            "['k127_922904', '123104', '123937', 'O66251', '+', '0']\n",
            "['k127_922904', '123996', '125561', 'MF_00072', '+', '0']\n",
            "['k127_922904', '130155', '131456', 'P0C0F4', '+', '0']\n",
            "['k127_922904', '131507', '132379', 'P61887', '+', '0']\n",
            "['k127_922904', '132545', '133666', 'P26391', '+', '0']\n",
            "['k127_2074107', '813', '1856', 'Q0P9D3', '+', '0']\n",
            "['k127_2074107', '4369', '4530', 'Q0P9D3', '+', '0']\n",
            "['k127_2074107', '32201', '32377', 'MF_00671', '+', '0']\n",
            "['k127_2074107', '39488', '39808', 'MF_00402', '+', '0']\n",
            "['k127_2074107', '54950', '55726', 'Q8U194', '+', '0']\n",
            "['k127_2074107', '55838', '57205', 'Q8U195', '+', '0']\n",
            "['k127_2074107', '59385', '59843', 'MF_00105', '+', '0']\n",
            "['k127_2074107', '59955', '60275', 'P9WML3', '+', '0']\n",
            "['k127_2074107', '61512', '62480', 'MF_02042', '+', '0']\n",
            "['k127_2074107', '80681', '82084', 'P21893', '+', '0']\n",
            "['k127_2074107', '82432', '83520', 'P15043', '+', '0']\n",
            "['k127_2074107', '91947', '92699', 'P16692', '+', '0']\n",
            "['k127_2074107', '100221', '101501', 'MF_00051', '+', '0']\n",
            "['k127_2074107', '101529', '102197', 'MF_00108', '+', '0']\n",
            "['k127_2074107', '102268', '104229', 'P24230', '+', '0']\n",
            "['k127_2074107', '108896', '109459', 'MF_01887', '+', '0']\n",
            "['k127_2074107', '110797', '111750', 'MF_00281', '+', '0']\n",
            "['k127_2074107', '111800', '112426', 'MF_00942', '+', '0']\n",
            "['k127_2074107', '117990', '119204', 'MF_00550', '+', '0']\n",
            "['k127_2074107', '119238', '120104', 'MF_00185', '+', '0']\n",
            "['k127_2074107', '122099', '123424', 'MF_01531', '+', '0']\n",
            "['k127_2074107', '146866', '147444', 'P0AFR4', '+', '0']\n",
            "['k127_2074107', '162691', '163446', 'P94400', '+', '0']\n",
            "['k127_2074107', '163609', '163974', 'P94400', '+', '0']\n",
            "['k127_2074107', '188406', '189008', 'P96717', '+', '0']\n",
            "['k127_2074107', '189472', '190485', 'MF_00936', '+', '0']\n",
            "['k127_2074107', '213265', '213765', 'MF_01899', '+', '0']\n",
            "['k127_2074107', '221745', '223034', 'MF_00534', '+', '0']\n",
            "['k127_2074107', '228575', '229252', 'P17618', '+', '0']\n",
            "['k127_2074107', '232107', '232820', 'MF_01139', '+', '0']\n",
            "['k127_2074107', '233088', '235601', 'MF_01430', '+', '0']\n",
            "['k127_2074107', '244193', '245191', 'P32959', '+', '0']\n",
            "['k127_2074107', '247495', '248013', 'MF_00948', '+', '0']\n",
            "['k127_2074107', '250730', '251458', 'A0A0H2URB1', '+', '0']\n",
            "['k127_2074107', '251563', '252204', 'P71059', '+', '0']\n",
            "['k127_2074107', '252990', '253631', 'Q0P9C7', '+', '0']\n",
            "['k127_2074107', '257063', '257494', 'Q7BLV3', '+', '0']\n",
            "['k127_2074107', '257980', '259125', 'MF_02028', '+', '0']\n",
            "['k127_2074107', '259864', '260955', 'P71055', '+', '0']\n",
            "['k127_2074107', '261417', '262127', 'MF_01695', '+', '0']\n",
            "['k127_2074107', '262152', '262757', 'Q0P9D0', '+', '0']\n",
            "['k127_2074107', '264313', '265683', 'P19531', '+', '0']\n",
            "['k127_2074107', '277895', '278881', 'P62723', '+', '0']\n",
            "['k127_1346442', '303', '1895', 'MF_01227', '+', '0']\n",
            "['k127_1346442', '2118', '3719', 'MF_01810', '+', '0']\n",
            "['k127_1346442', '13929', '14417', 'MF_00315', '+', '0']\n",
            "['k127_1346442', '14517', '15677', 'MF_00315', '+', '0']\n",
            "['k127_1346442', '35835', '37640', 'O53182', '+', '0']\n",
            "['k127_1346442', '37716', '38699', 'O53181', '+', '0']\n",
            "['k127_486726', '80', '388', 'MF_00093', '+', '0']\n",
            "['k127_486726', '684', '1931', 'MF_00145', '+', '0']\n",
            "['k127_486726', '8106', '8735', 'P0AA39', '+', '0']\n",
            "['k127_486726', '8809', '9735', 'MF_00182', '+', '0']\n",
            "['k127_486726', '9778', '10995', 'P0AAZ4', '+', '0']\n",
            "['k127_486726', '11229', '12089', 'Q9X0L4', '+', '0']\n",
            "['k127_486726', '12116', '13174', 'MF_00542', '+', '0']\n",
            "['k127_486726', '17902', '20040', 'MF_00054_B', '+', '0']\n",
            "['k127_486726', '20931', '21518', 'Q9S3R9', '+', '0']\n",
            "['k127_486726', '22503', '23144', 'MF_02227', '+', '0']\n",
            "['k127_486726', '24399', '25910', 'P64167', '+', '0']\n",
            "['k127_486726', '26676', '27584', 'P0A9P4', '+', '0']\n",
            "['k127_486726', '48894', '50282', 'MF_00974', '+', '0']\n",
            "['k127_486726', '59331', '62129', 'MF_00205', '+', '0']\n",
            "['k127_486726', '63217', '63738', 'MF_00083', '+', '0']\n",
            "['k127_486726', '73231', '75255', 'Q2YSD6', '+', '0']\n",
            "['k127_486726', '75517', '77220', 'MF_00505', '+', '0']\n",
            "['k127_486726', '84188', '86137', 'MF_01920', '+', '0']\n",
            "['k127_486726', '86513', '87652', 'A8FNH9', '+', '0']\n",
            "['k127_486726', '88754', '89410', 'MF_00018', '+', '0']\n",
            "['k127_486726', '91584', '93743', 'MF_01129', '+', '0']\n",
            "['k127_486726', '97790', '98272', 'B3Q6P8', '+', '0']\n",
            "['k127_486726', '104200', '104673', 'MF_00034', '+', '0']\n",
            "['k127_486726', '104798', '105586', 'O30564', '+', '0']\n",
            "['k127_486726', '112617', '113459', 'MF_00113', '+', '0']\n",
            "['k127_486726', '113595', '113801', 'MF_00113', '+', '0']\n",
            "['k127_486726', '115588', '115905', 'P77712', '+', '0']\n",
            "['k127_486726', '115591', '115917', 'O67466', '+', '0']\n",
            "['k127_486726', '117238', '117660', 'P12758', '+', '0']\n",
            "['k127_486726', '117769', '117984', 'P12758', '+', '0']\n",
            "['k127_486726', '120554', '121396', 'O66874', '+', '0']\n",
            "['k127_486726', '121898', '122785', 'P70997', '+', '0']\n",
            "['k127_486726', '126784', '128685', 'MF_00315', '+', '0']\n",
            "['k127_486726', '128700', '129995', 'P0AGI8', '+', '0']\n",
            "['k127_486726', '130092', '131528', 'P0AFZ7', '+', '0']\n",
            "['k127_486726', '154364', '155326', 'Q48452', '+', '0']\n",
            "['k127_486726', '155749', '156417', 'MF_01146', '+', '0']\n",
            "['k127_486726', '156801', '157022', 'MF_00373', '+', '0']\n",
            "['k127_486726', '157104', '157265', 'MF_00294', '+', '0']\n",
            "['k127_486726', '164141', '164908', 'MF_02048', '+', '0']\n",
            "['k127_762480', '21715', '22803', 'MF_00168', '+', '0']\n",
            "['k127_762480', '24130', '25041', 'MF_01694', '+', '0']\n",
            "['k127_762480', '25386', '25880', 'MF_01887', '+', '0']\n",
            "['k127_762480', '25952', '27295', 'MF_01498', '+', '0']\n",
            "['k127_762480', '28717', '29268', 'MF_00097', '+', '0']\n",
            "['k127_762480', '30397', '31137', 'MF_00057', '+', '0']\n",
            "['k127_762480', '32633', '34267', 'Q9FAF8', '+', '0']\n",
            "['k127_762480', '44625', '45197', 'MF_00321', '+', '0']\n",
            "['k127_762480', '47852', '49846', 'O54408', '+', '0']\n",
            "['k127_762480', '68611', '69588', 'MF_01445', '+', '0']\n",
            "['k127_762480', '69643', '70863', 'MF_00226_B', '+', '0']\n",
            "['k127_762480', '72167', '73696', 'Q47910', '+', '0']\n",
            "['k127_762480', '73796', '77182', 'MF_01382', '+', '0']\n",
            "['k127_533492', '1421', '2983', 'A4YDT1', '+', '0']\n",
            "['k127_533492', '3428', '4339', 'MF_01007', '+', '0']\n",
            "['k127_533492', '4948', '6516', 'MF_02080', '+', '0']\n",
            "['k127_533492', '6517', '7216', 'MF_04044', '+', '3']\n",
            "['k127_533492', '7217', '8671', 'MF_00208', '+', '0']\n",
            "['k127_533492', '8807', '9199', 'MF_00038', '+', '0']\n",
            "['k127_533492', '9434', '9985', 'MF_00038', '+', '0']\n",
            "['k127_533492', '9996', '11339', 'MF_00639', '+', '0']\n",
            "['k127_533492', '11521', '12705', 'MF_02079', '+', '0']\n",
            "['k127_533492', '12908', '13984', 'MF_00033', '+', '0']\n",
            "['k127_533492', '14019', '15404', 'MF_00046', '+', '0']\n",
            "['k127_533492', '15562', '16050', 'MF_00911', '+', '0']\n",
            "['k127_533492', '16452', '17345', 'MF_02033', '+', '0']\n",
            "['k127_533492', '18119', '19186', 'MF_00909', '+', '0']\n",
            "['k127_533492', '20290', '21234', 'Q46840', '+', '0']\n",
            "['k127_533492', '23969', '24667', 'MF_01121', '+', '0']\n",
            "['k127_533492', '24763', '25884', 'Q57017', '+', '0']\n",
            "['k127_533492', '30000', '30275', 'MF_01534', '+', '0']\n",
            "['k127_533492', '30625', '30948', 'MF_01691', '+', '0']\n",
            "['k127_533492', '31125', '32060', 'P77735', '+', '0']\n",
            "['k127_533492', '35359', '36498', 'T2KM04', '+', '0']\n",
            "['k127_533492', '37092', '38684', 'P0CB40', '+', '0']\n",
            "['k127_533492', '53631', '54659', 'P07874', '+', '0']\n",
            "['k127_533492', '92338', '92712', 'MF_00009', '+', '0']\n",
            "['k127_533492', '92776', '94641', 'MF_00129', '+', '0']\n",
            "['k127_533492', '94812', '95318', 'MF_00004', '+', '0']\n",
            "['k127_533492', '95461', '97230', 'MF_00203', '+', '0']\n",
            "['k127_533492', '97357', '97791', 'MF_00518', '+', '0']\n",
            "['k127_533492', '100642', '100944', 'P42979', '+', '0']\n",
            "['k127_533492', '101251', '101982', 'MF_00592', '+', '0']\n",
            "['k127_533492', '103374', '104003', 'MF_00664', '+', '0']\n",
            "['k127_533492', '115679', '116707', 'P32705', '+', '4']\n",
            "['k127_533492', '129369', '131078', 'V3TQ67', '+', '0']\n",
            "['k127_3167081', '1688', '2020', 'P0AEM0', '+', '0']\n",
            "['k127_3167081', '2603', '2794', 'MF_00115', '+', '0']\n",
            "['k127_3167081', '3087', '3473', 'MF_00109', '+', '0']\n",
            "['k127_3167081', '3799', '4440', 'A0QVQ8', '+', '0']\n",
            "['k127_3167081', '4942', '5094', 'Q9KEI9', '+', '0']\n",
            "['k127_3167081', '5140', '5610', 'Q9KEI9', '+', '0']\n",
            "['k127_3167081', '17276', '18589', 'A9BJC1', '+', '0']\n",
            "['k127_3167081', '19158', '20042', 'MF_00364', '+', '0']\n",
            "['k127_3167081', '21267', '21848', 'MF_01034', '+', '0']\n",
            "['k127_2417308', '23892', '24740', 'O34851', '+', '0']\n",
            "['k127_2417308', '27401', '27658', 'MF_00227', '+', '0']\n",
            "['k127_2417308', '27729', '27932', 'MF_00386', '+', '0']\n",
            "['k127_2417308', '28066', '28479', 'MF_02048', '+', '0']\n",
            "['k127_2417308', '28750', '29136', 'P0AE88', '+', '0']\n",
            "['k127_2417308', '29211', '29750', 'MF_00052_B', '+', '0']\n",
            "['k127_2417308', '37681', '38319', 'MF_01218_A', '+', '0']\n",
            "['k127_2417308', '40308', '41561', 'P50383', '+', '0']\n",
            "['k127_2417308', '42154', '42633', 'A0QTP2', '+', '0']\n",
            "['k127_2417308', '43377', '44168', 'MF_00156', '+', '0']\n",
            "['k127_1836396', '1699', '2370', 'MF_00238', '+', '0']\n",
            "['k127_1836396', '2459', '3238', 'MF_00191', '+', '0']\n",
            "['k127_1836396', '9080', '9851', 'P30855', '+', '1']\n",
            "['k127_1836396', '9852', '10523', 'Q02540', '+', '0']\n",
            "['k127_1836396', '16497', '17441', 'MF_01340', '+', '5']\n",
            "['k127_1836396', '25692', '27749', 'P11653', '+', '0']\n",
            "['k127_1836396', '30632', '31276', 'MF_00922', '+', '0']\n",
            "['k127_1836396', '32135', '32407', 'MF_01343_B', '+', '0']\n",
            "['k127_1836396', '38908', '40809', 'MF_02090', '+', '0']\n",
            "['k127_1836396', '41023', '41637', 'MF_01531', '+', '0']\n",
            "['k127_1836396', '43574', '43834', 'P0AFK2', '+', '0']\n",
            "['k127_1836396', '52486', '52875', 'MF_02202', '+', '0']\n",
            "['k127_1836396', '55848', '57179', 'P94316', '+', '0']\n",
            "['k127_888825', '2122', '3123', 'MF_02121', '+', '0']\n",
            "['k127_888825', '3258', '4361', 'P26235', '+', '0']\n",
            "['k127_888825', '7877', '8809', 'O34755', '+', '0']\n",
            "['k127_888825', '8866', '9192', 'A0A0H2UR96', '+', '0']\n",
            "['k127_888825', '14751', '15596', 'MF_01825', '+', '0']\n",
            "['k127_888825', '19999', '21060', 'T2KPJ3', '+', '0']\n",
            "['k127_888825', '21790', '23121', 'T2KM18', '+', '0']\n",
            "['k127_888825', '28304', '29704', 'P77522', '+', '0']\n",
            "['k127_888825', '29780', '30520', 'P77499', '+', '0']\n",
            "['k127_888825', '31949', '33157', 'MF_01831', '+', '0']\n",
            "['k127_888825', '34251', '35756', 'P45049', '+', '0']\n",
            "['k127_888825', '63168', '63704', 'Q8DP63', '+', '0']\n",
            "['k127_888825', '63824', '64684', 'MF_00916', '+', '0']\n",
            "['k127_888825', '65489', '67345', 'MF_01463_B', '+', '0']\n",
            "['k127_888825', '67346', '68323', 'MF_01464_B', '+', '0']\n",
            "['k127_888825', '69631', '71697', 'MF_00952', '+', '0']\n",
            "['k127_888825', '72127', '72960', 'P33643', '+', '0']\n",
            "['k127_888825', '73805', '74194', 'P0ADX9', '+', '0']\n",
            "['k127_888825', '75323', '75697', 'MF_01485', '+', '0']\n",
            "['k127_888825', '77459', '78151', 'MF_01451', '+', '0']\n",
            "['k127_888825', '85872', '86834', 'P44916', '+', '0']\n",
            "['k127_2086219', '3688', '4083', 'P71086', '+', '0']\n"
          ]
        }
      ]
    },
    {
      "cell_type": "code",
      "source": [
        "alignment_overlaps.to_excel(\"/content/drive/MyDrive/Lab Work/Parkinsons_Data/Organized/Alignment_Overlaps_Unique_Bedmap_COGs.xlsx\")"
      ],
      "metadata": {
        "id": "iTDmKphDRv1L"
      },
      "execution_count": null,
      "outputs": []
    },
    {
      "cell_type": "code",
      "source": [
        "alignment_overlaps = pd.read_excel(\"/content/drive/MyDrive/Lab Work/Parkinsons_Data/Organized/Alignment_Overlaps_Unique_Bedmap_COGs.xlsx\")"
      ],
      "metadata": {
        "id": "B9ox8EP8VSfq"
      },
      "execution_count": null,
      "outputs": []
    },
    {
      "cell_type": "code",
      "source": [
        "import re  # Make sure to import the regular expressions module\n",
        "\n",
        "alignment_overlaps['Name_or_COG_Match'] = 'No'\n",
        "\n",
        "for index, row in alignment_overlaps.iterrows():\n",
        "    prokka_COG = row['Prokka COGs']\n",
        "    bath_COG = row['BATH COGs']\n",
        "    prokka_protein = row['Prokka'].split(\":\")[-1]\n",
        "    bath_parts = re.split(r'\\s+', row['BATH'])  # This will split by any whitespace\n",
        "    if len(bath_parts) >= 3:\n",
        "        bath_protein = bath_parts[-3]\n",
        "        if (prokka_COG == bath_COG) or (prokka_protein == bath_protein):\n",
        "            alignment_overlaps.loc[index, 'Name_or_COG_Match'] = 'Yes'\n",
        "    else:\n",
        "        print(f\"Not enough parts in the list for index {index}: {bath_parts}\")\n"
      ],
      "metadata": {
        "id": "fY8saXLV22GI"
      },
      "execution_count": null,
      "outputs": []
    },
    {
      "cell_type": "code",
      "source": [
        "alignment_overlaps['Name_or_COG_Match'].value_counts()"
      ],
      "metadata": {
        "id": "5ZpWIf80UB9i"
      },
      "execution_count": null,
      "outputs": []
    },
    {
      "cell_type": "code",
      "source": [
        "#How many because there are no annotations?\n",
        "\n",
        "print(alignment_overlaps[(alignment_overlaps['Name_or_COG_Match'] == \"No\") & (alignment_overlaps['Prokka COGs'].isna()) & (alignment_overlaps['BATH COGs'].isna())].shape[0])\n",
        "\n",
        "bath_none_count = alignment_overlaps[(alignment_overlaps['Name_or_COG_Match'] == \"No\") & (alignment_overlaps['BATH COGs'].isna())].shape[0]\n",
        "\n",
        "prokka_none_count = alignment_overlaps[(alignment_overlaps['Name_or_COG_Match'] == \"No\") & (alignment_overlaps['Prokka COGs'].isna())].shape[0]\n",
        "\n",
        "print(f\"Number of rows with 'Name_or_COG_Match' == 'No' and no 'BATH COGs': {bath_none_count}\")\n",
        "print(f\"Number of rows with 'Name_or_COG_Match' == 'No' and no 'Prokka COGs': {prokka_none_count}\")\n"
      ],
      "metadata": {
        "id": "dnSURQBtWRFd"
      },
      "execution_count": null,
      "outputs": []
    },
    {
      "cell_type": "code",
      "source": [
        "alignment_overlaps.to_excel(\"/content/drive/MyDrive/Lab Work/Parkinsons_Data/Organized/Alignment_Overlaps_Unique_Bedmap_COG_Matches.xlsx\")"
      ],
      "metadata": {
        "id": "hK6ybYiLGoJd"
      },
      "execution_count": null,
      "outputs": []
    },
    {
      "cell_type": "code",
      "source": [
        "alignment_overlaps = pd.read_excel(\"/content/drive/MyDrive/Lab Work/Parkinsons_Data/Organized/Alignment_Overlaps_Unique_Bedmap_COG_Matches.xlsx\")"
      ],
      "metadata": {
        "id": "TrN0P-kkeaZF"
      },
      "execution_count": null,
      "outputs": []
    },
    {
      "cell_type": "code",
      "source": [
        "#alignment_overlaps[(alignment_overlaps['COG_Match'] == \"No\") & ~(alignment_overlaps['BATH COGs'].isna()) & ~(alignment_overlaps['Prokka COGs'].isna())]"
      ],
      "metadata": {
        "id": "m_CyotjDUCA6"
      },
      "execution_count": null,
      "outputs": []
    },
    {
      "cell_type": "markdown",
      "source": [
        "### Alignment length for overlaping annotations and names"
      ],
      "metadata": {
        "id": "JKkhxapYUqCu"
      }
    },
    {
      "cell_type": "code",
      "source": [
        "filter1_alignments = alignments.dropna()"
      ],
      "metadata": {
        "id": "RXJZ3IfRXoet"
      },
      "execution_count": null,
      "outputs": []
    },
    {
      "cell_type": "code",
      "source": [
        "alignment_overlaps.loc[alignment_overlaps['Name_or_COG_Match'] == 'Yes']"
      ],
      "metadata": {
        "id": "cI3hZb_oYC6O"
      },
      "execution_count": null,
      "outputs": []
    },
    {
      "cell_type": "code",
      "source": [
        "def get_alignment_lengths_with_colors(df):\n",
        "    index = []\n",
        "    prokka_alignment_size = []\n",
        "    bath_alignment_size = []\n",
        "    colors = []\n",
        "\n",
        "    for i, r in df.iterrows():\n",
        "        color = \"blue\"\n",
        "        prokka_row_list = r['Prokka'].split(\"\\t\")\n",
        "        if len(prokka_row_list) >= 3:\n",
        "            prokka_size = abs(int(prokka_row_list[1]) - int(prokka_row_list[2]))\n",
        "            prokka_alignment_size.append(prokka_size)\n",
        "            index.append(i)\n",
        "            if \"UniProtKB\" in r['Prokka']:\n",
        "                color = \"grey\"\n",
        "            elif \"HAMAP\" in r['Prokka']:\n",
        "                color = \"green\"\n",
        "            elif \"ISfinder\" in r['Prokka']:\n",
        "                color = \"red\"\n",
        "\n",
        "        else:\n",
        "            print(f\"Skipping row {i} due to insufficient elements in 'Prokka'. Prokka content: {r['Prokka']}\")\n",
        "            continue\n",
        "\n",
        "        bath_row_list = r['BATH'].split(\"\\t\")\n",
        "        if len(bath_row_list) >= 3:\n",
        "            bath_size = abs(int(bath_row_list[1]) - int(bath_row_list[2]))\n",
        "            bath_alignment_size.append(bath_size)\n",
        "        else:\n",
        "            bath_alignment_size.append(None)\n",
        "            print(f\"Skipping BATH part of row {i} due to insufficient elements. BATH content: {r['BATH']}\")\n",
        "        colors.append(color)\n",
        "\n",
        "    assert len(prokka_alignment_size) == len(bath_alignment_size) == len(colors), \"List sizes do not match.\"\n",
        "\n",
        "    return prokka_alignment_size, bath_alignment_size, colors\n",
        "\n",
        "\n",
        "prokka_alignsize, bath_alignsize, colors = get_alignment_lengths_with_colors(alignment_overlaps.loc[alignment_overlaps['Name_or_COG_Match'] == 'Yes'])"
      ],
      "metadata": {
        "id": "Mp-FCGJxWrDn"
      },
      "execution_count": null,
      "outputs": []
    },
    {
      "cell_type": "code",
      "source": [
        "import matplotlib.pyplot as plt\n",
        "import seaborn as sns\n",
        "import numpy as np\n",
        "\n",
        "plt.style.use(\"seaborn\")\n",
        "\n",
        "categories = ['UniProtKB', 'HAMAP', 'ISfinder', 'Others']\n",
        "colors_map = {'UniProtKB': 'grey', 'HAMAP': 'green', 'ISfinder': 'red', 'Prodigal Ab Initio': 'blue'}\n",
        "\n",
        "for category, color in colors_map.items():\n",
        "    mask = np.array(colors) == color\n",
        "    plt.scatter(np.array(bath_alignsize)[mask], np.array(prokka_alignsize)[mask], color=color, alpha=0.5, label=category)\n",
        "\n",
        "plt.xlabel('BATH alignment size')\n",
        "plt.ylabel('Prokka alignment size')\n",
        "plt.title('Alignment size comparison for all of BATHs matching protein annotations')\n",
        "\n",
        "lims = [\n",
        "    np.min([plt.gca().get_xlim(), plt.gca().get_ylim()]),\n",
        "    np.max([plt.gca().get_xlim(), plt.gca().get_ylim()]),\n",
        "]\n",
        "plt.plot(lims, lims, 'k-', alpha=0.75, zorder=0)\n",
        "plt.xlim(lims)\n",
        "plt.ylim(lims)\n",
        "plt.legend()\n",
        "plt.show()"
      ],
      "metadata": {
        "id": "7VFf9LFHWmnp"
      },
      "execution_count": null,
      "outputs": []
    },
    {
      "cell_type": "code",
      "source": [
        "import pandas as pd\n",
        "data = pd.read_excel(\"/content/drive/MyDrive/Lab Work/Parkinsons_Data/Organized/Alignment_Overlaps_Unique_Bedmap_COG_Matches.xlsx\")"
      ],
      "metadata": {
        "id": "oGOaTgvKuFco"
      },
      "execution_count": null,
      "outputs": []
    },
    {
      "cell_type": "code",
      "source": [
        "data"
      ],
      "metadata": {
        "id": "HE1QJbvDuJ83"
      },
      "execution_count": null,
      "outputs": []
    },
    {
      "cell_type": "code",
      "source": [
        "prokka_alignsize, bath_alignsize, colors = get_alignment_lengths_with_colors(alignment_overlaps.loc[alignment_overlaps['Name_or_COG_Match'] == 'Yes'])"
      ],
      "metadata": {
        "id": "20mjaV1cuL4s"
      },
      "execution_count": null,
      "outputs": []
    },
    {
      "cell_type": "code",
      "source": [
        "len(prokka_alignsize)"
      ],
      "metadata": {
        "id": "ALcpkA4QemlC"
      },
      "execution_count": null,
      "outputs": []
    },
    {
      "cell_type": "code",
      "source": [
        "alignment_overlaps[alignment_overlaps['Name_or_COG_Match'] == 'Yes']['Prokka alignsize'] = prokka_alignsize\n",
        "alignment_overlaps[alignment_overlaps['Name_or_COG_Match'] == 'Yes']['BATH alignsize'] = bath_alignsize"
      ],
      "metadata": {
        "id": "bFb0WNg0uRyt"
      },
      "execution_count": null,
      "outputs": []
    },
    {
      "cell_type": "code",
      "source": [
        "# First, ensure your index list matches the filtered DataFrame's index where 'Name_or_COG_Match' is 'Yes'\n",
        "filtered_index = alignment_overlaps[alignment_overlaps['Name_or_COG_Match'] == 'Yes'].index\n",
        "\n",
        "# Assign 'prokka_alignsize' and 'bath_alignsize' using .loc on the filtered index\n",
        "alignment_overlaps.loc[filtered_index, 'Prokka alignsize'] = prokka_alignsize\n",
        "alignment_overlaps.loc[filtered_index, 'BATH alignsize'] = bath_alignsize\n"
      ],
      "metadata": {
        "id": "fYoTBlAGd_ZD"
      },
      "execution_count": null,
      "outputs": []
    },
    {
      "cell_type": "markdown",
      "source": [],
      "metadata": {
        "id": "7DP6ipaukwcG"
      }
    },
    {
      "cell_type": "code",
      "source": [
        "alignment_overlaps.sort_values('Prokka alignsize',ascending=False).to_excel(\"Size.xlsx\")"
      ],
      "metadata": {
        "id": "jSBqjNuifuaU"
      },
      "execution_count": null,
      "outputs": []
    },
    {
      "cell_type": "code",
      "source": [],
      "metadata": {
        "id": "he2Vy5wHgX7J"
      },
      "execution_count": null,
      "outputs": []
    }
  ]
}